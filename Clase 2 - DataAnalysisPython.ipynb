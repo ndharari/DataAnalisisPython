{
 "cells": [
  {
   "cell_type": "markdown",
   "metadata": {
    "slideshow": {
     "slide_type": "slide"
    }
   },
   "source": [
    "<center><img src=\"img/title.png\" alt=\"Title\" style=\"width: 850px; height: 650px\"></center>"
   ]
  },
  {
   "cell_type": "markdown",
   "metadata": {},
   "source": [
    "### Binder\n",
    "Binder es una plataforma donde se puede acceder a Jupyter Notebooks desde internet. El link para poder acceder al notebook de esta presentación es: https://mybinder.org/v2/gh/ndharari/DataAnalisisPython/master \n",
    "\n",
    "<center><h1>https://goo.gl/qbWVKi</h1></center>  \n",
    "\n",
    "<center><img src=\"img/qrcode.png\" style=\"height: 200px\"></center>"
   ]
  },
  {
   "cell_type": "markdown",
   "metadata": {
    "slideshow": {
     "slide_type": "slide"
    }
   },
   "source": [
    "# Hoja de ruta clase 2:\n",
    "\n",
    "- Repaso\n",
    "- Paquetes\n",
    "- Análisis de datos"
   ]
  },
  {
   "cell_type": "markdown",
   "metadata": {
    "slideshow": {
     "slide_type": "subslide"
    }
   },
   "source": [
    "## Repaso\n",
    "- Listas\n",
    "- Tipo de variables "
   ]
  },
  {
   "cell_type": "markdown",
   "metadata": {
    "slideshow": {
     "slide_type": "subslide"
    }
   },
   "source": [
    "## Paquetes\n",
    "- ¿Qué es un paquete?\n",
    "- Instalación e importación\n",
    "- Pandas\n",
    "- Matplotlib\n",
    "- Statsmodels\n",
    "- Seaborn"
   ]
  },
  {
   "cell_type": "markdown",
   "metadata": {
    "slideshow": {
     "slide_type": "subslide"
    }
   },
   "source": [
    "## Analisis de Datos\n",
    "- Importación de datos y manejo con Pandas\n",
    "- Manipulación y limpieza de Datos con Pandas\n",
    "- Simples operaciones estadísticas con Pandas\n",
    "- Graficos simples con Matplotlib\n",
    "- Problemas econométricos con Statsmodels\n",
    "- Graficos complejos con Seaborn"
   ]
  },
  {
   "cell_type": "markdown",
   "metadata": {
    "slideshow": {
     "slide_type": "slide"
    }
   },
   "source": [
    "## Repaso: Listas\n",
    "1. Ordenamiento de datos que puede incluir números, strings, variables, entre otros.\n",
    "2. Los datos no deben ser homogéneos.\n",
    "3. Las listas son editables [ lista.append(); lista.remove() ].\n",
    "4. Slice Notation: **lista[m:n]** devuelve los n-m items empezando desde **lista[m]**."
   ]
  },
  {
   "cell_type": "markdown",
   "metadata": {
    "slideshow": {
     "slide_type": "slide"
    }
   },
   "source": [
    "## Paquetes\n",
    "En este contexto un paquete es una parte de código escrto por la *comunidad* específico para cumplir una función determinada. \n",
    "Para poder utilizarlo, se debe **instalar** e **importar**. Por suerte, al utilizar Anaconda ya tenemos instalados varios paquetes escenciales y todos los que vamos a utilzar en esta clase. Sin embargo, sigue siendo necesario **importarlos**\n"
   ]
  },
  {
   "cell_type": "markdown",
   "metadata": {
    "slideshow": {
     "slide_type": "subslide"
    }
   },
   "source": [
    "### Importar  paquetes\n",
    "Anaconda tiene muchos paquetes. Para usarlos es necesario importarlos porque si fueran cargados con todos los programas sería un gasto inútil de computación.\n",
    "Para importarlo, se utiliza la siguiente sintaxis:"
   ]
  },
  {
   "cell_type": "code",
   "execution_count": null,
   "metadata": {
    "slideshow": {
     "slide_type": "fragment"
    }
   },
   "outputs": [],
   "source": [
    "import math"
   ]
  },
  {
   "cell_type": "markdown",
   "metadata": {
    "slideshow": {
     "slide_type": "fragment"
    }
   },
   "source": [
    "Y para usar las funciones dentro del paquete (o librería) se utiliza:"
   ]
  },
  {
   "cell_type": "code",
   "execution_count": null,
   "metadata": {
    "slideshow": {
     "slide_type": "fragment"
    }
   },
   "outputs": [],
   "source": [
    "math.sqrt(2)"
   ]
  },
  {
   "cell_type": "markdown",
   "metadata": {
    "slideshow": {
     "slide_type": "subslide"
    }
   },
   "source": [
    "Ahora bien, hay algunos paquetes con nombres muy largos y con funciones largas dentro de ellos. Es posible (y va a pasar) que queramos usar un alias más reducido para llamar al paquete dentro de nuestro código. Para esto, se utiliza:"
   ]
  },
  {
   "cell_type": "code",
   "execution_count": null,
   "metadata": {
    "slideshow": {
     "slide_type": "fragment"
    }
   },
   "outputs": [],
   "source": [
    "import math as m\n",
    "m.sqrt(2)"
   ]
  },
  {
   "cell_type": "markdown",
   "metadata": {
    "slideshow": {
     "slide_type": "fragment"
    }
   },
   "source": [
    "Los paquetes que trataremos de utilizar en esa clase son:"
   ]
  },
  {
   "cell_type": "markdown",
   "metadata": {
    "slideshow": {
     "slide_type": "slide"
    }
   },
   "source": [
    "### Paquetes a usar"
   ]
  },
  {
   "cell_type": "markdown",
   "metadata": {
    "slideshow": {
     "slide_type": "subslide"
    }
   },
   "source": [
    "### Pandas\n",
    "\n",
    "Pandas es un paquete que provee una forma simple de manejar estructuras de datos en Python. https://pandas.pydata.org/\n",
    "\n",
    "#### Data Frames\n",
    "Los data frames son estructuras de datos que permite lectura y escritura de bases de datos en CSV, txt, SQL y Excel. El manejo de estos datos es simple. Cuenta además con formas simples de manejar datos faltantes\n",
    "\n",
    "<center><img src=\"img/pandas_logo.png\"></center>"
   ]
  },
  {
   "cell_type": "markdown",
   "metadata": {
    "slideshow": {
     "slide_type": "subslide"
    }
   },
   "source": [
    "### Matplotlib\n",
    "\n",
    "Matplotlib ofrece la posibilidad de hacer graficos en Python desde histogramas, graficos de barra, de disperción, entre otros. \n",
    "Funciona especialmente bien con jupyter notebook. https://matplotlib.org/"
   ]
  },
  {
   "cell_type": "code",
   "execution_count": null,
   "metadata": {
    "slideshow": {
     "slide_type": "fragment"
    }
   },
   "outputs": [],
   "source": [
    "import matplotlib\n",
    "import matplotlib.pyplot as plt\n",
    "a = 10 ; x = [i for i in range (-a,a+1)] ; y = [x**2 for x in range (-a,a+1)]\n",
    "plt.plot(x, y) ; plt.ylim(-2*a, a**2); ax = plt.gca()\n",
    "ax.spines['left'].set_position('zero') ; ax.spines['bottom'].set_position('zero')\n",
    "ax.spines['top'].set_color('none') ;ax.spines['right'].set_color('none')\n",
    "plt.show()"
   ]
  },
  {
   "cell_type": "markdown",
   "metadata": {
    "slideshow": {
     "slide_type": "subslide"
    }
   },
   "source": [
    "### Statsmodels\n",
    "\n",
    "Statsmodels es un paquete que facilita el uso de modelos, tests y manejo de datos estadísticos. Lo utilizaremos para correr las regresiones de la clase de hoy.\n",
    "https://www.statsmodels.org/stable/index.html"
   ]
  },
  {
   "cell_type": "markdown",
   "metadata": {
    "slideshow": {
     "slide_type": "subslide"
    }
   },
   "source": [
    "### Seaborn\n",
    "\n",
    "Seaborn es un paquete para realizar gráficos científicos en Python."
   ]
  },
  {
   "cell_type": "code",
   "execution_count": null,
   "metadata": {
    "slideshow": {
     "slide_type": "fragment"
    }
   },
   "outputs": [],
   "source": [
    "import numpy as np\n",
    "import seaborn as sns\n",
    "n = 100\n",
    "x = np.random.rand(n)\n",
    "u = np.random.rand(n)\n",
    "y = x + u\n",
    "sns.regplot(x,y)"
   ]
  },
  {
   "cell_type": "markdown",
   "metadata": {
    "slideshow": {
     "slide_type": "slide"
    }
   },
   "source": [
    "## Análisis de datos\n",
    "### Importar base de datos.\n",
    "Para los siguientes ejercicios usaremos la base de datos *bwght* del libro *Introductory Econometrics: A Modern Approach* de J.  Wooldrige que se pueden encontrar en la siguiente página web:\n",
    "https://goo.gl/rgJxBN\n",
    "En nuestro caso este archivo en Excel se encuentra aquí:\n",
    "\n",
    "<center><img src=\"img/data_location.png\" style = \"height: 300px\" ></center>\n"
   ]
  },
  {
   "cell_type": "markdown",
   "metadata": {
    "slideshow": {
     "slide_type": "subslide"
    }
   },
   "source": [
    "Es importante saber la ubicación del archivo para poder importarlo. Hay dos formas de importar un archivo por su **ubicación objetiva** (ejemplo: C:Windows//Users//Amantedepython) o por su **ubicación relativa** a la carpeta desde la cual se corre el programa. Esta presentación utiliza la segunda alternativa por lo que la dirección del archivo es: **\"data\\\\bwght.xls\"**"
   ]
  },
  {
   "cell_type": "markdown",
   "metadata": {
    "slideshow": {
     "slide_type": "subslide"
    }
   },
   "source": [
    "### Importando desde Pandas\n",
    "Para comenzar, importaremos la base de datos como un DataFrame de pandas: un a tabla bidimensional de datos estructurada que acepta varios tipos de inputs:"
   ]
  },
  {
   "cell_type": "code",
   "execution_count": null,
   "metadata": {
    "slideshow": {
     "slide_type": "fragment"
    }
   },
   "outputs": [],
   "source": [
    "import pandas as pd\n",
    "dataFrame = pd.read_excel(\"data\\\\bwght.xls\", sheet_name  = 0)\n",
    "desc = pd.read_excel(\"data\\\\bwght.xls\", sheet_name  = 1)\n",
    "dataFrame.index.name = \"id\""
   ]
  },
  {
   "cell_type": "code",
   "execution_count": null,
   "metadata": {
    "slideshow": {
     "slide_type": "fragment"
    }
   },
   "outputs": [],
   "source": [
    "dataFrame ; desc"
   ]
  },
  {
   "cell_type": "markdown",
   "metadata": {
    "slideshow": {
     "slide_type": "subslide"
    }
   },
   "source": [
    "### Administrando los datos\n",
    "Hay distintas funciones que se pueden usar para administrar los datos desde Pandas. Se pueden obtener los *n* primeros o últimos elementos del DaataFrame mediante data.head(n) y data.tail(n)"
   ]
  },
  {
   "cell_type": "code",
   "execution_count": null,
   "metadata": {
    "slideshow": {
     "slide_type": "fragment"
    }
   },
   "outputs": [],
   "source": [
    "dataFrame.head(2)\n",
    "dataFrame.tail(3)"
   ]
  },
  {
   "cell_type": "markdown",
   "metadata": {
    "slideshow": {
     "slide_type": "fragment"
    }
   },
   "source": [
    "Como también se puede llamar valores por nombre de columna:"
   ]
  },
  {
   "cell_type": "code",
   "execution_count": null,
   "metadata": {
    "slideshow": {
     "slide_type": "fragment"
    }
   },
   "outputs": [],
   "source": [
    "dataFrame[\"faminc\"]\n",
    "dataFrame[[\"faminc\", \"bwght\", \"cigs\"]]"
   ]
  },
  {
   "cell_type": "markdown",
   "metadata": {
    "slideshow": {
     "slide_type": "subslide"
    }
   },
   "source": [
    "También es posible obtener datos usando la función, similar a Slice Notation: **data.iloc[m:n,p:q] m,n = filas ; p,q = columnas**.\n",
    "O usando la función **data.loc[ïd]** para buscar una entrada por su id."
   ]
  },
  {
   "cell_type": "code",
   "execution_count": null,
   "metadata": {
    "slideshow": {
     "slide_type": "fragment"
    }
   },
   "outputs": [],
   "source": [
    "dataFrame.loc[4] \n",
    "dataFrame.iloc[:,1]"
   ]
  },
  {
   "cell_type": "markdown",
   "metadata": {
    "slideshow": {
     "slide_type": "slide"
    }
   },
   "source": [
    "### Matrix de correlaciones y estadísticos\n",
    "Para conseguir la Matrix de correlaciones y diversos estadísticos dentro de Pandas las funciones necesarias son:"
   ]
  },
  {
   "cell_type": "code",
   "execution_count": null,
   "metadata": {
    "slideshow": {
     "slide_type": "fragment"
    }
   },
   "outputs": [],
   "source": [
    "dataFrame.corr()"
   ]
  },
  {
   "cell_type": "code",
   "execution_count": null,
   "metadata": {
    "slideshow": {
     "slide_type": "fragment"
    }
   },
   "outputs": [],
   "source": [
    "dataFrame.mean()"
   ]
  },
  {
   "cell_type": "code",
   "execution_count": null,
   "metadata": {
    "slideshow": {
     "slide_type": "fragment"
    }
   },
   "outputs": [],
   "source": [
    "dataFrame.var()"
   ]
  },
  {
   "cell_type": "code",
   "execution_count": null,
   "metadata": {
    "slideshow": {
     "slide_type": "fragment"
    }
   },
   "outputs": [],
   "source": [
    "dataFrame.kurtosis()"
   ]
  },
  {
   "cell_type": "code",
   "execution_count": null,
   "metadata": {
    "slideshow": {
     "slide_type": "fragment"
    }
   },
   "outputs": [],
   "source": [
    "dataFrame.skew()"
   ]
  },
  {
   "cell_type": "markdown",
   "metadata": {
    "slideshow": {
     "slide_type": "slide"
    }
   },
   "source": [
    "#### Regresiónes Simples e Histogramas\n",
    "Vamos a continuar realizando la siguiente regresión lineal:\n",
    "$$ bwght = \\beta_{0} + \\beta_{1}faminc + u $$ \n",
    "Donde *bwght* es el peso al nacer en libras y *faminc* el ingreso anual de la familia. "
   ]
  },
  {
   "cell_type": "code",
   "execution_count": null,
   "metadata": {
    "slideshow": {
     "slide_type": "fragment"
    }
   },
   "outputs": [],
   "source": [
    "from statsmodels.formula.api import ols\n",
    "formula = \"bwght ~ faminc\"\n",
    "results = ols(formula, dataFrame).fit()\n",
    "results.summary()"
   ]
  },
  {
   "cell_type": "markdown",
   "metadata": {
    "slideshow": {
     "slide_type": "subslide"
    }
   },
   "source": [
    "También es posible realizar un histograma de los datos:"
   ]
  },
  {
   "cell_type": "code",
   "execution_count": null,
   "metadata": {
    "slideshow": {
     "slide_type": "fragment"
    }
   },
   "outputs": [],
   "source": [
    "plt.hist(dataFrame[\"bwght\"], label = \"bwght\" )"
   ]
  },
  {
   "cell_type": "code",
   "execution_count": null,
   "metadata": {
    "slideshow": {
     "slide_type": "fragment"
    }
   },
   "outputs": [],
   "source": [
    "plt.hist(dataFrame[\"faminc\"], label = \"faminc\" )"
   ]
  },
  {
   "cell_type": "markdown",
   "metadata": {
    "slideshow": {
     "slide_type": "slide"
    }
   },
   "source": [
    "### Regresiónes múltiples y tests F\n",
    "A continuación vamos a realizar la regresión siguiente regresión múltiple:\n",
    "$$ bwght = \\beta_{0} + \\beta_{1}cigs + \\beta_{2}parity + \\beta_{3}faminc + \\beta_{4}motheduc + \\beta_{5}fatheduc + u $$ \n",
    "\n",
    "Donde:\n",
    "*bwght* es el peso al nacer en libras ; *cigs*, el número promedio de cigarros diarios que fumó la madre durante el embarazo. *Parity* es el orden de nacimiento del niño ; *faminc*,  el ingreso anual de la familia, *motheduc*, años de escolaridad de la madre y *fatheduc*, años de escolaridad del padre."
   ]
  },
  {
   "cell_type": "code",
   "execution_count": null,
   "metadata": {
    "slideshow": {
     "slide_type": "fragment"
    }
   },
   "outputs": [],
   "source": [
    "formula = \"bwght ~ cigs + parity + faminc + motheduc + fatheduc \"\n",
    "results = ols(formula, dataFrame).fit()\n",
    "results.summary()"
   ]
  },
  {
   "cell_type": "markdown",
   "metadata": {
    "slideshow": {
     "slide_type": "subslide"
    }
   },
   "source": [
    "### ¿Cuál es el problema?\n",
    "Para encontrar el problema entremos a la variable *fatheduc*"
   ]
  },
  {
   "cell_type": "code",
   "execution_count": null,
   "metadata": {
    "slideshow": {
     "slide_type": "fragment"
    }
   },
   "outputs": [],
   "source": [
    "dataFrame[\"fatheduc\"]"
   ]
  },
  {
   "cell_type": "markdown",
   "metadata": {
    "slideshow": {
     "slide_type": "fragment"
    }
   },
   "source": [
    "#### Hay valores que son NaN!\n",
    "El problema es que está considerando los valores de *motheduc* y *fatheduc* como objetos porque estamos en presencia de NaNs\n",
    "<center><img src=\"img/meme.jpg\" alt=\"Title\" style=\"width: 250px; height: 250px\"></center>"
   ]
  },
  {
   "cell_type": "markdown",
   "metadata": {
    "slideshow": {
     "slide_type": "subslide"
    }
   },
   "source": [
    "Para salvar los valores que son NaN, debemos utilizar la siguiente expresión para editar nuestros datos:\n",
    "    \n",
    "- **.transform(pd.to_numeric, errors='coerce')** Convierte los valores a int y fuerza NaN\n",
    "- **.dropna(how=\"any\")** Elimina los valores con NaN"
   ]
  },
  {
   "cell_type": "code",
   "execution_count": null,
   "metadata": {
    "slideshow": {
     "slide_type": "fragment"
    }
   },
   "outputs": [],
   "source": [
    "dataFrameNaN = dataFrame.transform(pd.to_numeric, errors='coerce').dropna(how=\"any\")"
   ]
  },
  {
   "cell_type": "code",
   "execution_count": null,
   "metadata": {
    "slideshow": {
     "slide_type": "subslide"
    }
   },
   "outputs": [],
   "source": [
    "ex_formula = \"bwght ~ cigs + parity + faminc + motheduc + fatheduc\"\n",
    "ex_results = ols(ex_formula, dataFrameNaN).fit()\n",
    "ex_results.summary()"
   ]
  },
  {
   "cell_type": "markdown",
   "metadata": {
    "slideshow": {
     "slide_type": "subslide"
    }
   },
   "source": [
    "A continuación se quiere testear la la hipótesis nula de que una vez controlados cigs, parity y faminc, la educación de los padres no tiene efecto sobre el peso al nacer. Para eso utilizamos la siguiente sintaxis:"
   ]
  },
  {
   "cell_type": "code",
   "execution_count": null,
   "metadata": {
    "slideshow": {
     "slide_type": "fragment"
    }
   },
   "outputs": [],
   "source": [
    "hypotheses = (\"motheduc = fatheduc = 0\")\n",
    "f_test = ex_results.f_test(hypotheses)\n",
    "f_test.summary()"
   ]
  },
  {
   "cell_type": "markdown",
   "metadata": {
    "slideshow": {
     "slide_type": "slide"
    }
   },
   "source": [
    "### Matriz de dispersión\n",
    "Finalmente, para concluir el análisis se puede realizar con seaborn una matriz de dispersión. Esta muestra las relaciones de correlacion entre todas las variables."
   ]
  },
  {
   "cell_type": "code",
   "execution_count": null,
   "metadata": {
    "slideshow": {
     "slide_type": "fragment"
    }
   },
   "outputs": [],
   "source": [
    "rDataFrame = dataFrameNaN[[\"bwght\", \"cigs\", \"parity\", \"faminc\", \"motheduc\", \"fatheduc\"]]\n",
    "sns.pairplot(rDataFrame, kind = \"reg\")"
   ]
  }
 ],
 "metadata": {
  "celltoolbar": "Slideshow",
  "kernelspec": {
   "display_name": "Python 3",
   "language": "python",
   "name": "python3"
  },
  "language_info": {
   "codemirror_mode": {
    "name": "ipython",
    "version": 3
   },
   "file_extension": ".py",
   "mimetype": "text/x-python",
   "name": "python",
   "nbconvert_exporter": "python",
   "pygments_lexer": "ipython3",
   "version": "3.7.1"
  }
 },
 "nbformat": 4,
 "nbformat_minor": 2
}
