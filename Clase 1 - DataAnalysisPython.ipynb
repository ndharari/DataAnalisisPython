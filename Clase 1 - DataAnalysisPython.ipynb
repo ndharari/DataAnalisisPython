{
 "cells": [
  {
   "cell_type": "markdown",
   "metadata": {
    "slideshow": {
     "slide_type": "slide"
    }
   },
   "source": [
    "<center><img src=\"img/title.png\" alt=\"Title\" style=\"width: 850px; height: 650px\"></center>\n"
   ]
  },
  {
   "cell_type": "markdown",
   "metadata": {
    "slideshow": {
     "slide_type": "slide"
    }
   },
   "source": [
    "# Resumen Clase 1:\n",
    "\n",
    "- Soporte técnico\n",
    "- Sintaxis Básica"
   ]
  },
  {
   "cell_type": "markdown",
   "metadata": {
    "slideshow": {
     "slide_type": "subslide"
    }
   },
   "source": [
    "## Herramientas generales \n",
    "   - Binder\n",
    "   - Anaconda\n",
    "   - Jupyter Notebooks\n",
    "   - Spyder"
   ]
  },
  {
   "cell_type": "markdown",
   "metadata": {
    "slideshow": {
     "slide_type": "subslide"
    }
   },
   "source": [
    "## Sintaxis basica:\n",
    "### Que *no* vamos a ver hoy\n",
    "-   Cómo graficar una función\n",
    "-   Obtener la esperanza de una población\n",
    "-   Cómo programar Machine Learning\n",
    "-   Conseguir datos mediante Web Scrapping\n",
    "-   Hackear los servidores de Google"
   ]
  },
  {
   "cell_type": "markdown",
   "metadata": {
    "slideshow": {
     "slide_type": "subslide"
    }
   },
   "source": [
    "## Sintaxis basica:\n",
    "### Que  *sí* vamos a ver hoy:\n",
    "\n",
    "-   Introducción a Python: cajas, cosas, acciones\n",
    "-   Tipo de Datos (Int, Float, String)\n",
    "-   Estructura de datos: Listas y Tuplas\n",
    "-   Intervalo de taller\n",
    "-   Operadores Lógicos, inclusión e identidad\n",
    "-   Condiciones: if / else\n",
    "-   Acciones: Funciones\n",
    "-   Ejercicios"
   ]
  },
  {
   "cell_type": "markdown",
   "metadata": {
    "slideshow": {
     "slide_type": "slide"
    }
   },
   "source": [
    "## Herramientas generales"
   ]
  },
  {
   "cell_type": "markdown",
   "metadata": {
    "slideshow": {
     "slide_type": "subslide"
    }
   },
   "source": [
    "### Binder\n",
    "Binder es una plataforma donde se puede acceder a Jupyter Notebooks desde internet. El link para poder acceder al notebook de esta presentación es: https://mybinder.org/v2/gh/ndharari/DataAnalisisPython/master \n",
    "\n",
    "<center><h1>https://goo.gl/qbWVKi</h1></center>  \n",
    "\n",
    "<center><img src=\"img/qrcode.png\" style=\"height: 200px\"></center>\n",
    "\n",
    "\n"
   ]
  },
  {
   "cell_type": "markdown",
   "metadata": {
    "slideshow": {
     "slide_type": "subslide"
    }
   },
   "source": [
    "### Presentación Anaconda\n",
    "Anaconda es una distribución libre y gratuita de Python y R utilizada para la ciencia de datos. Incluye la instalación de ambos lenguajes de programación con **múltiples paquetes y librerías pre-instaladas** y algunos programas especializados como Jupyter Notebook, Spyder y R studio. Cuenta con una interfaz user-friendy (Anaconda Navigator, imagen debajo) y una consola.\n",
    "\n",
    "<center><img src=\"img/anacondaNavigator.png\" style=\"height: 300px\"></center>\n",
    "\n"
   ]
  },
  {
   "cell_type": "markdown",
   "metadata": {
    "slideshow": {
     "slide_type": "subslide"
    }
   },
   "source": [
    "### Spyder\n",
    "Spyder es un entorno para análisis de datos en Python pensado para el campo científico. Ofrece posibilidades de visualización, exploración de bases y la posibilidad de hacer gráficos de forma simple..\n",
    "<center><img src=\"img/spyder.png\" style=\"width: 1200px, heigh: 800\"></center>\n"
   ]
  },
  {
   "cell_type": "markdown",
   "metadata": {
    "slideshow": {
     "slide_type": "subslide"
    }
   },
   "source": [
    "### Jupyter Notebook\n",
    "El notebook de jupyter integra código, sus resultados y texto en un visualizador. Para entrar es necesario escribir **jupyter notebook** en la consola de Anaconda o abrirlo desde el **Anaconda Navigator**. \n",
    "\n",
    "<center><img src=\"img/jupyter.png\" style=\"height: 500px ; width: 1200px\"></center>"
   ]
  },
  {
   "cell_type": "markdown",
   "metadata": {},
   "source": [
    "Si logramos ver esta imagen, estamos listos para empezar:\n",
    "<center><img src=\"img/notebook.PNG\" style=\"height: 200px\"></center>\n",
    "### Para los que utilicen Binder, un Notebook en blanco está disponible para el momento de taller"
   ]
  },
  {
   "cell_type": "markdown",
   "metadata": {
    "slideshow": {
     "slide_type": "slide"
    }
   },
   "source": [
    "## Sintaxis basica"
   ]
  },
  {
   "cell_type": "markdown",
   "metadata": {
    "slideshow": {
     "slide_type": "subslide"
    }
   },
   "source": [
    "### Introducción Python\n",
    "La filosofía de Python es obtener código **elegante  y simple**:\n",
    "- **Elegante**: Un código en python tendria que ser fácil de escribir y  recordar.\n",
    "- **Simple**: La facilidad de lectura importa:"
   ]
  },
  {
   "cell_type": "code",
   "execution_count": null,
   "metadata": {
    "slideshow": {
     "slide_type": "fragment"
    }
   },
   "outputs": [],
   "source": [
    "x = [i for i in range(10)]; x"
   ]
  },
  {
   "cell_type": "markdown",
   "metadata": {
    "slideshow": {
     "slide_type": "fragment"
    }
   },
   "source": [
    "\"Devolvé i por cada i en el rango de 0 a 10\""
   ]
  },
  {
   "cell_type": "markdown",
   "metadata": {
    "slideshow": {
     "slide_type": "slide"
    }
   },
   "source": [
    "### Cosas, cajas, acciones\n",
    "- *Cosas*: Palabras, letras, numeros, etc\n",
    "- *Cajas*: Variables.\n",
    "- *Acciones*: Funciones, conectores lógicos, operaciones matemáticas, etc"
   ]
  },
  {
   "cell_type": "markdown",
   "metadata": {
    "slideshow": {
     "slide_type": "fragment"
    }
   },
   "source": [
    "⚠ No es necesario declarar una variable de antemano, solo basta con:  "
   ]
  },
  {
   "cell_type": "code",
   "execution_count": null,
   "metadata": {
    "slideshow": {
     "slide_type": "fragment"
    }
   },
   "outputs": [],
   "source": [
    "X = 1 ; X"
   ]
  },
  {
   "cell_type": "markdown",
   "metadata": {
    "slideshow": {
     "slide_type": "subslide"
    }
   },
   "source": [
    "### Algunas aclaraciones generales:\n",
    "⚠ El símbolo \"=\" asigna variables. Es distinto de \"==\" que es un operador relacional."
   ]
  },
  {
   "cell_type": "code",
   "execution_count": null,
   "metadata": {
    "slideshow": {
     "slide_type": "fragment"
    }
   },
   "outputs": [],
   "source": [
    "X = 1 \n",
    "X == 2"
   ]
  },
  {
   "cell_type": "markdown",
   "metadata": {
    "slideshow": {
     "slide_type": "fragment"
    }
   },
   "source": [
    "⚠ El nombre de la variable no es su contenido:"
   ]
  },
  {
   "cell_type": "code",
   "execution_count": null,
   "metadata": {
    "slideshow": {
     "slide_type": "fragment"
    }
   },
   "outputs": [],
   "source": [
    "X = 1\n",
    "X == \"X\""
   ]
  },
  {
   "cell_type": "markdown",
   "metadata": {
    "slideshow": {
     "slide_type": "subslide"
    }
   },
   "source": [
    "### Antes de empezar:\n",
    "Escriban en el notebook la siguiente linea y oprmiman \"control + enter\"\n",
    "<center><img src=\"img/helloWorld.png\" style=\"height: 200px\"></center>\n"
   ]
  },
  {
   "cell_type": "code",
   "execution_count": null,
   "metadata": {},
   "outputs": [],
   "source": [
    "print(\"Hola Mundo\")"
   ]
  },
  {
   "cell_type": "markdown",
   "metadata": {
    "slideshow": {
     "slide_type": "subslide"
    }
   },
   "source": [
    "### Cosas: Tipo de Datos \n",
    "##### Numeros\n",
    "Las dos formas más simples de representar números son **integers** y **floats** \n",
    "Las computadoras distinguen entre los dos porque operaciones matemáticas con *integers* son mas simples que con *floats* "
   ]
  },
  {
   "cell_type": "code",
   "execution_count": null,
   "metadata": {
    "slideshow": {
     "slide_type": "fragment"
    }
   },
   "outputs": [],
   "source": [
    "1/3"
   ]
  },
  {
   "cell_type": "markdown",
   "metadata": {
    "slideshow": {
     "slide_type": "fragment"
    }
   },
   "source": [
    "⚠ ¿Cuál es el resultado de la siguiente línea?"
   ]
  },
  {
   "cell_type": "code",
   "execution_count": null,
   "metadata": {
    "slideshow": {
     "slide_type": "fragment"
    }
   },
   "outputs": [],
   "source": [
    "x = .5 + .5 ; type(x)"
   ]
  },
  {
   "cell_type": "markdown",
   "metadata": {
    "slideshow": {
     "slide_type": "subslide"
    }
   },
   "source": [
    "Se puede usar Python como una calculadora simple: \n",
    "\n",
    "<center><img src=\"img/arit_table.png\" style=\"width: 1200px\"></center>\n",
    "\n",
    "\n",
    "En el caso de \"/\" **siempre** se obtiene como resultado un float. Para obtener un resultado entero se usa \"//\". \n"
   ]
  },
  {
   "cell_type": "markdown",
   "metadata": {
    "slideshow": {
     "slide_type": "fragment"
    }
   },
   "source": [
    "⚠ ¿Cuál es el resultado de la siguiente línea?"
   ]
  },
  {
   "cell_type": "code",
   "execution_count": null,
   "metadata": {
    "slideshow": {
     "slide_type": "fragment"
    }
   },
   "outputs": [],
   "source": [
    "x = 1/3 + 1/3 + 1/3; type(x) ; x"
   ]
  },
  {
   "cell_type": "markdown",
   "metadata": {
    "slideshow": {
     "slide_type": "subslide"
    }
   },
   "source": [
    "Como con las operaciones, se puede utilizar los operadores relacionales. Estos evalúan el argumento y devuelven un valor booleano, *True* o *False*\n",
    "\n",
    "<center><img src=\"img/rel_table.png\" style=\"width: 1200px\"></center>"
   ]
  },
  {
   "cell_type": "code",
   "execution_count": null,
   "metadata": {
    "slideshow": {
     "slide_type": "fragment"
    }
   },
   "outputs": [],
   "source": [
    "1 > 4\n",
    "2 < 3\n",
    "1 < 2 <3"
   ]
  },
  {
   "cell_type": "markdown",
   "metadata": {
    "slideshow": {
     "slide_type": "subslide"
    }
   },
   "source": [
    "##### Strings\n",
    "Una *string* es una secuencia de caracteres. Pueden escribirse entre comillas simples ('...') o dobles (\"...\"). "
   ]
  },
  {
   "cell_type": "code",
   "execution_count": null,
   "metadata": {
    "slideshow": {
     "slide_type": "fragment"
    }
   },
   "outputs": [],
   "source": [
    "hola = \"hola\"; hola\n",
    "chau"
   ]
  },
  {
   "cell_type": "markdown",
   "metadata": {
    "slideshow": {
     "slide_type": "fragment"
    }
   },
   "source": [
    "Estas pueden ser concatenadas con el signo \"+\" y repeatidas con \"*\""
   ]
  },
  {
   "cell_type": "code",
   "execution_count": null,
   "metadata": {
    "slideshow": {
     "slide_type": "fragment"
    }
   },
   "outputs": [],
   "source": [
    "hola = \"hola \" ; hola+hola\n",
    "chau = \"adios \"; chau*4"
   ]
  },
  {
   "cell_type": "markdown",
   "metadata": {
    "slideshow": {
     "slide_type": "subslide"
    }
   },
   "source": [
    "#### ⚠ Es importante conocer el tipo de nuestras variables\n",
    "¿Que ocurre en las siguientes líneas?"
   ]
  },
  {
   "cell_type": "code",
   "execution_count": null,
   "metadata": {
    "slideshow": {
     "slide_type": "fragment"
    }
   },
   "outputs": [],
   "source": [
    "X = 3 ; Y = 3 ; X + Y"
   ]
  },
  {
   "cell_type": "code",
   "execution_count": null,
   "metadata": {
    "slideshow": {
     "slide_type": "fragment"
    }
   },
   "outputs": [],
   "source": [
    "X = \"3\" ; Y = \"3\" ; X + Y"
   ]
  },
  {
   "cell_type": "code",
   "execution_count": null,
   "metadata": {
    "slideshow": {
     "slide_type": "fragment"
    }
   },
   "outputs": [],
   "source": [
    "X = \"3\" ; Y = 3 ; X + Y"
   ]
  },
  {
   "cell_type": "markdown",
   "metadata": {
    "slideshow": {
     "slide_type": "slide"
    }
   },
   "source": [
    "### Estructura de datos: Listas y Tuplas\n",
    "#### Listas\n",
    "Las listas son un tipo de almacenamiento de datos compuesto: un ordenamiento de datos.\n",
    "Pueden incluir dentro numeros, strings, variables, entre otros. Los datos no tienen que ser homogéneos."
   ]
  },
  {
   "cell_type": "code",
   "execution_count": null,
   "metadata": {
    "slideshow": {
     "slide_type": "fragment"
    }
   },
   "outputs": [],
   "source": [
    "x = [1,2,3] ; x\n",
    "y = \"River\" ; x = [42, 'Boca', y] ; x"
   ]
  },
  {
   "cell_type": "markdown",
   "metadata": {
    "slideshow": {
     "slide_type": "subslide"
    }
   },
   "source": [
    "Lo característico de las listas es que son **editables**. Hay determinadas acciones, **métodos**, que se pueden aplicar para editar las listas. Un método es una función (acción) específica a ciertas estructuras de datos."
   ]
  },
  {
   "cell_type": "code",
   "execution_count": null,
   "metadata": {
    "slideshow": {
     "slide_type": "fragment"
    }
   },
   "outputs": [],
   "source": [
    "grandes = [\"Boca\", \"River\", \"Independiente\", \"Racing\"]\n",
    "grandes.append(\"Atlanta\") ; grandes"
   ]
  },
  {
   "cell_type": "code",
   "execution_count": null,
   "metadata": {
    "slideshow": {
     "slide_type": "fragment"
    }
   },
   "outputs": [],
   "source": [
    "grandes.remove(\"Atlanta\"); grandes"
   ]
  },
  {
   "cell_type": "markdown",
   "metadata": {
    "slideshow": {
     "slide_type": "subslide"
    }
   },
   "source": [
    "##### Slice Notation\n",
    "Es importante recordar que las listas tienen un orden determinado. Podemos usar esto para acceder a los elementos de una lista. La regla general es usando **lista[m:n]** se obtiene n-m elementos empezando desde **lista[m]**. Si se deja vacío, **lista[m:]** va hasta el final."
   ]
  },
  {
   "cell_type": "code",
   "execution_count": null,
   "metadata": {
    "slideshow": {
     "slide_type": "fragment"
    }
   },
   "outputs": [],
   "source": [
    "lista = [1, 2, 3, 4]\n",
    "lista[1]"
   ]
  },
  {
   "cell_type": "markdown",
   "metadata": {
    "slideshow": {
     "slide_type": "fragment"
    }
   },
   "source": [
    "⚠ Las listas empiezan a contar desde cero!"
   ]
  },
  {
   "cell_type": "markdown",
   "metadata": {
    "slideshow": {
     "slide_type": "subslide"
    }
   },
   "source": [
    "Números negativos también pueden usarse para pedir datos de una lista. En este caso, se comenzaría a contar desde el final:"
   ]
  },
  {
   "cell_type": "code",
   "execution_count": null,
   "metadata": {
    "slideshow": {
     "slide_type": "fragment"
    }
   },
   "outputs": [],
   "source": [
    "lista_larga = [4,5,6,7,2,3,4,8,3,6,2]\n",
    "lista_larga[-0] \n",
    "lista_larga[-2:]\n",
    "lista_larga[-4:-1]"
   ]
  },
  {
   "cell_type": "markdown",
   "metadata": {
    "slideshow": {
     "slide_type": "subslide"
    }
   },
   "source": [
    "#### Tuplas\n",
    "Otro tipo de datos similar a las listas son los \"tuples\". En este caso, son listas que no pueden ser editadas."
   ]
  },
  {
   "cell_type": "code",
   "execution_count": null,
   "metadata": {
    "slideshow": {
     "slide_type": "fragment"
    }
   },
   "outputs": [],
   "source": [
    "tupla = (\"jamon\", \"queso\") ; tupla.append(\"mayonesa\")"
   ]
  },
  {
   "cell_type": "markdown",
   "metadata": {
    "slideshow": {
     "slide_type": "fragment"
    }
   },
   "source": [
    "Las tuplas, como las listas, pueden abrirse de la siguiente forma:"
   ]
  },
  {
   "cell_type": "code",
   "execution_count": null,
   "metadata": {
    "slideshow": {
     "slide_type": "fragment"
    }
   },
   "outputs": [],
   "source": [
    "vector = [10, 20, 30]\n",
    "x1, x2, x3 = vector ; x3"
   ]
  },
  {
   "cell_type": "markdown",
   "metadata": {
    "slideshow": {
     "slide_type": "slide"
    }
   },
   "source": [
    "### Intervalo de taller\n",
    "\n",
    "Este es el momento de practicar con las herramientas antes mencionadas. Para esto tendrán 10 minutos. Las propuestas a hacer son las siguientes (no es necesario hacerlas todas!):\n",
    "\n",
    "- Definir una variable y asignarle un objeto. Verificar luego el tipo del objeto\n",
    "- Resolver el siguiente ejercicio aritmetico: ((4.0 + 4.0)/2)*2. ¿Cuál es el tipo resultante? ¿Cambia si remplazamos \"/\" por \"//\"?\n",
    "- Verificar que \"3\"*3 != 9. ¿Por qué? Luego, verificar que 2 es menor a 3 y mayor a 0.5.\n",
    "- Armar la lista \"grandes\" antes expresada, sumar \"Velez\" y quitar el equipo de su preferencia\n",
    "- Contruir una lista de largo y números arbitrarios. Usando Slice Notation consiga:\n",
    "    - El primer número.\n",
    "    - El anteúltimo.\n",
    "    - Tres del medio."
   ]
  },
  {
   "cell_type": "markdown",
   "metadata": {
    "slideshow": {
     "slide_type": "subslide"
    }
   },
   "source": [
    "### Operadores Lógicos, inclusión e identidad\n",
    "\n",
    "Como con los operadores aritméticos, tambien se pueden usar los siguientes operadores. \n",
    "\n",
    "<center><img src=\"img/log_table.png\" style=\"width: 1200px\"></center>\n",
    "\n",
    "⚠ Otros operadores compuestos son *not in* y *is not*"
   ]
  },
  {
   "cell_type": "markdown",
   "metadata": {
    "slideshow": {
     "slide_type": "slide"
    }
   },
   "source": [
    "### Condiciones: if / else\n",
    "Las condiciones son la base de la programación en cualquier lenguaje. \n",
    "Estas quieren decir que *si* se cumple determinada condición pasa algo. *Y en el caso de que no se cumpla*, ocurre otra cosa.\n",
    "\n",
    "<center><img src=\"img/ifElse_flowchart.png\" style=\"width: 700px\"></center>"
   ]
  },
  {
   "cell_type": "markdown",
   "metadata": {
    "slideshow": {
     "slide_type": "subslide"
    }
   },
   "source": [
    "Cada lenguaje tiene su manera de demarcar los distintos componentes del condicional. En Python, toda división se hace utilizando **indentaciones anidadas**: las marcas en rojo, que se escriben con presiones de la tecla Tab ↹ o cuatro espacios normales.\n",
    "<center><img src=\"img/ifElse_indent.png\" style=\"width: 600px\"></center>"
   ]
  },
  {
   "cell_type": "markdown",
   "metadata": {
    "slideshow": {
     "slide_type": "subslide"
    }
   },
   "source": [
    "Imaginemos un robot hincha de boca poco amigable a otros robots de distinta escuadra que reconoce si estos son contrarios o amigos dependiendo de su afiliación futbolística. ¿Cómo podríamos programar a este robot?"
   ]
  },
  {
   "cell_type": "code",
   "execution_count": null,
   "metadata": {
    "slideshow": {
     "slide_type": "fragment"
    }
   },
   "outputs": [],
   "source": [
    "# RobotBoca\n",
    "\n",
    "equipo = \"River\"\n",
    "if equipo != \"Boca\":\n",
    "    print(\"Contrario\")\n",
    "else:\n",
    "    print(\"Amigo\")"
   ]
  },
  {
   "cell_type": "markdown",
   "metadata": {
    "slideshow": {
     "slide_type": "slide"
    }
   },
   "source": [
    "### Acciones: funciones\n",
    "##### Concepto de función:\n",
    "Una función en programación es una sección del programa que realiza una tarea determinada. En la mayoría de los casos cuentan con *inputs* y *outputs* pero no necesariamente. \n",
    "Las funciones en Python pueden tomar la forma **funcion(input1, input2, input3)** o objeto.**método**()\n",
    "\n",
    "⚠ Recordar, los métodos son funciones específicas a ciertas estructuras de datos. "
   ]
  },
  {
   "cell_type": "markdown",
   "metadata": {
    "slideshow": {
     "slide_type": "subslide"
    }
   },
   "source": [
    "#### Algunas funciones heredadas\n",
    "Python cuenta con algunas funciones pre establecidas:\n",
    "\n",
    "<center><img src=\"img/fun_table.png\" style=\"width: 800px\"></center>\n",
    "\n",
    "Los iterables vistos hasta ahora son lista y tuple. Se llaman así porque se puede iterar entre sus partes."
   ]
  },
  {
   "cell_type": "markdown",
   "metadata": {
    "slideshow": {
     "slide_type": "subslide"
    }
   },
   "source": [
    "##### Definiendo Funciones:\n",
    "\n",
    "Definir una función no es algo complejo; sólo es necesario tres ingredientes:\n",
    "\n",
    "- Nombre de la funcion\n",
    "- Variables input\n",
    "- Acción a realizar"
   ]
  },
  {
   "cell_type": "markdown",
   "metadata": {
    "slideshow": {
     "slide_type": "fragment"
    }
   },
   "source": [
    "<center><img src=\"img/f_def.png\" style=\"width: 500px\"></center>\n"
   ]
  },
  {
   "cell_type": "markdown",
   "metadata": {
    "slideshow": {
     "slide_type": "slide"
    }
   },
   "source": [
    "# Propuesta de ejercicios: \n",
    "- Defina una función que dado un número decida si es par o impar\n",
    "- Defina una función que dada una edad decida si puede votar, manejar o ambas\n",
    "- Defina una función que dada una lista y un valor, decida si el valor se encuentra en el tercer puesto de la lista\n",
    "- Defina una función que dado una lsta de invitados y un nombre, decide si el individio puede entrar a la fiesta"
   ]
  },
  {
   "cell_type": "markdown",
   "metadata": {
    "slideshow": {
     "slide_type": "slide"
    }
   },
   "source": [
    "# Proxima clase: \n",
    "\n",
    "- Repaso\n",
    "- Paquetes\n",
    "    - ¿Qué es un paquete?\n",
    "- Análisis de datos\n",
    "    - Importación de datos y manejo con Pandas\n",
    "    - Manipulación y limpieza de Datos con Pandas\n",
    "    - Simples operaciones estadísticas con Pandas\n",
    "    - Graficos simples con Matplotlib\n",
    "    - Problemas econométricos con Statsmodels\n",
    "    - Graficos complejos con Seaborn\n"
   ]
  },
  {
   "cell_type": "markdown",
   "metadata": {
    "slideshow": {
     "slide_type": "slide"
    }
   },
   "source": [
    "# Muchas Gracias!"
   ]
  },
  {
   "cell_type": "markdown",
   "metadata": {
    "slideshow": {
     "slide_type": "notes"
    }
   },
   "source": [
    "# Resueltos:"
   ]
  },
  {
   "cell_type": "code",
   "execution_count": null,
   "metadata": {
    "slideshow": {
     "slide_type": "notes"
    }
   },
   "outputs": [],
   "source": [
    "def parImpar (num):\n",
    "    if num%2==0:\n",
    "        return \"par\"\n",
    "    else: \n",
    "        return \"impar\""
   ]
  },
  {
   "cell_type": "code",
   "execution_count": null,
   "metadata": {
    "slideshow": {
     "slide_type": "notes"
    }
   },
   "outputs": [],
   "source": [
    "def votarManejar (edad):\n",
    "    if edad < 16:\n",
    "        return \"no puede ni votar ni manejar\"\n",
    "    else:\n",
    "        if edad >= 18:\n",
    "            return \"Puede votar y manejar\"\n",
    "        else:\n",
    "            return \"Solo puede votar\""
   ]
  },
  {
   "cell_type": "code",
   "execution_count": null,
   "metadata": {
    "slideshow": {
     "slide_type": "notes"
    }
   },
   "outputs": [],
   "source": [
    "def tercerPuesto(lista, valor):\n",
    "    if len(lista) < 3:\n",
    "        return \"la lista no tiene tercer puesto\"\n",
    "    else:\n",
    "        if lista[2] == valor:\n",
    "            return \"está en el tercer puesto\"\n",
    "        else:\n",
    "            return \"No está en el tercer puesto\""
   ]
  },
  {
   "cell_type": "code",
   "execution_count": null,
   "metadata": {
    "slideshow": {
     "slide_type": "notes"
    }
   },
   "outputs": [],
   "source": [
    "def seguridad(invitados, nombre):\n",
    "    if nombre in invitados:\n",
    "        return \"puede pasar\"\n",
    "    else:\n",
    "        return \"no puede pasar\""
   ]
  }
 ],
 "metadata": {
  "celltoolbar": "Slideshow",
  "kernelspec": {
   "display_name": "Python 3",
   "language": "python",
   "name": "python3"
  },
  "language_info": {
   "codemirror_mode": {
    "name": "ipython",
    "version": 3
   },
   "file_extension": ".py",
   "mimetype": "text/x-python",
   "name": "python",
   "nbconvert_exporter": "python",
   "pygments_lexer": "ipython3",
   "version": "3.6.4"
  }
 },
 "nbformat": 4,
 "nbformat_minor": 2
}
